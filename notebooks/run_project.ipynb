{
 "cells": [
  {
   "cell_type": "markdown",
   "metadata": {},
   "source": [
    "# Run β-VAE for Fashion-MNIST"
   ]
  },
  {
   "cell_type": "markdown",
   "metadata": {},
   "source": [
    "This notebook provides a simple interface to run the β-VAE project for Fashion-MNIST. It calls the `main.py` script with default or specified arguments, orchestrating data loading, model training, and evaluation."
   ]
  },
  {
   "cell_type": "markdown",
   "metadata": {},
   "source": [
    "## 1. Setup Environment\n",
    "First, ensure all required libraries are installed. You can do this by running the following command in your terminal:\n",
    "```bash\n",
    "pip install -r requirements.txt\n",
    "```"
   ]
  },
  {
   "cell_type": "markdown",
   "metadata": {},
   "source": [
    "## 2. Run the Project\n",
    "You can run the entire β-VAE pipeline using the `main.py` script. The script handles data loading, model definition, training, evaluation (including FID calculation), and visualization of reconstructions and generations.\n",
    "\n",
    "Below are some common parameters you might want to adjust. You can pass them directly to the script.\n",
    "\n",
    "* `--latent_dim`: Dimension of the latent space (default: 10)\n",
    "* `--beta`: Beta parameter for β-VAE loss (default: 4.0)\n",
    "* `--epochs`: Number of training epochs (default: 20)\n",
    "* `--batch_size`: Batch size for training (default: 64)\n",
    "* `--lr`: Learning rate for the optimizer (default: 1e-3)\n",
    "* `--num_reconstruction_samples`: Number of samples to visualize for reconstruction (default: 10)\n",
    "* `--num_generation_samples`: Number of samples to visualize for generation (default: 25)\n",
    "* `--log_file`: File to save logging output (default: 'beta_vae_run.log')\n",
    "* `--save_path`: Path to save the trained model checkpoint (default: './checkpoints/beta_vae_model.pth')\n",
    "* `--load_path`: Path to load a pre-trained model checkpoint (default: None)\n",
    "* `--data_dir`: Directory to store Fashion-MNIST data (default: './data')"
   ]
  },
  {
   "cell_type": "code",
   "execution_count": null,
   "metadata": {},
   "outputs": [],
   "source": [
    "# Example: Run with default parameters\n",
    "!python main.py\n",
    "\n",
    "# Example: Run with custom parameters\n",
    "# !python main.py --latent_dim 20 --beta 5.0 --epochs 30 --batch_size 128 --lr 5e-4"
   ]
  },
  {
   "cell_type": "markdown",
   "metadata": {},
   "source": [
    "The visualizations (reconstructed and generated images) will pop up in separate windows. The training and evaluation logs will be printed to the console and saved to `beta_vae_run.log` (or your specified log file)."
   ]
  },
  {
   "cell_type": "markdown",
   "metadata": {},
   "source": [
    "## 3. Visualize Logs and Checkpoints\n",
    "\n",
    "After running, you can inspect the `beta_vae_run.log` file for detailed training and evaluation information. If `save_path` was specified, a model checkpoint will be saved in the `./checkpoints/` directory."
   ]
  }
 ],
 "metadata": {
  "kernelspec": {
   "display_name": "Python 3",
   "language": "python",
   "name": "python3"
  },
  "language_info": {
   "codemirror_mode": {
    "name": "ipython",
    "version": 3
   },
   "file_extension": ".py",
   "mimetype": "text/x-python",
   "name": "python",
   "nbconvert_exporter": "python",
   "pygments_lexer": "ipython3",
   "version": "3.8.10"
  }
 },
 "nbformat": 4,
 "nbformat_minor": 4
}
